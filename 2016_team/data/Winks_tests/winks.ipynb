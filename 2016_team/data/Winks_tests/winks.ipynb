{
 "cells": [
  {
   "cell_type": "code",
   "execution_count": 4,
   "metadata": {
    "collapsed": false
   },
   "outputs": [],
   "source": [
    "import pandas as pd\n",
    "import numpy as np\n",
    "import matplotlib.pyplot as plt\n",
    "#from scipy import signal\n",
    "%matplotlib inline\n",
    "import pyedflib\n",
    "import numpy as np\n",
    "#f = pyedflib.EdfReader('/Documents/UC_BERKELEY/Classes/CE_270/EDF winks/Robin-2L-03.10.16.17.17.24.edf')"
   ]
  },
  {
   "cell_type": "code",
   "execution_count": 5,
   "metadata": {
    "collapsed": false
   },
   "outputs": [
    {
     "ename": "IOError",
     "evalue": "malloc error",
     "output_type": "error",
     "traceback": [
      "\u001b[0;31m---------------------------------------------------------------------------\u001b[0m",
      "\u001b[0;31mIOError\u001b[0m                                   Traceback (most recent call last)",
      "\u001b[0;32m<ipython-input-5-baa08e7640f2>\u001b[0m in \u001b[0;36m<module>\u001b[0;34m()\u001b[0m\n\u001b[0;32m----> 1\u001b[0;31m \u001b[0mf\u001b[0m \u001b[0;34m=\u001b[0m \u001b[0mpyedflib\u001b[0m\u001b[0;34m.\u001b[0m\u001b[0mEdfReader\u001b[0m\u001b[0;34m(\u001b[0m\u001b[0;34m'/Documents/UC_BERKELEY/Classes/CE_270/EDF winks/Robin-2L-03.10.16.17.17.24.edf'\u001b[0m\u001b[0;34m)\u001b[0m\u001b[0;34m\u001b[0m\u001b[0m\n\u001b[0m",
      "\u001b[0;32mpyedflib/_extensions/_pyedflib.pyx\u001b[0m in \u001b[0;36mpyedflib._extensions._pyedflib.CyEdfReader.__init__ (pyedflib/_extensions/_pyedflib.c:2672)\u001b[0;34m()\u001b[0m\n",
      "\u001b[0;32mpyedflib/_extensions/_pyedflib.pyx\u001b[0m in \u001b[0;36mpyedflib._extensions._pyedflib.CyEdfReader.open (pyedflib/_extensions/_pyedflib.c:3285)\u001b[0;34m()\u001b[0m\n",
      "\u001b[0;32mpyedflib/_extensions/_pyedflib.pyx\u001b[0m in \u001b[0;36mpyedflib._extensions._pyedflib.CyEdfReader.check_open_ok (pyedflib/_extensions/_pyedflib.c:2844)\u001b[0;34m()\u001b[0m\n",
      "\u001b[0;31mIOError\u001b[0m: malloc error"
     ]
    }
   ],
   "source": [
    "f = pyedflib.EdfReader('/Documents/UC_BERKELEY/Classes/CE_270/EDF winks/Robin-2L-03.10.16.17.17.24.edf')"
   ]
  },
  {
   "cell_type": "code",
   "execution_count": 6,
   "metadata": {
    "collapsed": false
   },
   "outputs": [],
   "source": [
    "dL = pd.read_csv('Robin-1L-03.10.16.17.15.11.csv')\n",
    "dR = pd.read_csv('Robin-1R-03.10.16.17.10.28.csv')"
   ]
  },
  {
   "cell_type": "code",
   "execution_count": null,
   "metadata": {
    "collapsed": false
   },
   "outputs": [],
   "source": [
    "#lines = open('../data_real/eeg_zhanna_channels.txt').readlines()\n",
    "#lines = lines[1:]\n",
    "#lines = [line.strip() for line in lines]\n",
    "\n",
    "#CHANNELS = dict()\n",
    "#for line in lines:\n",
    " #   num, _, label = line.partition(' ')\n",
    "#  num = int(num) - 1\n",
    " #    CHANNELS[num] = label"
   ]
  },
  {
   "cell_type": "code",
   "execution_count": null,
   "metadata": {
    "collapsed": false
   },
   "outputs": [],
   "source": [
    "dL.shape, dR.shape"
   ]
  },
  {
   "cell_type": "code",
   "execution_count": null,
   "metadata": {
    "collapsed": false
   },
   "outputs": [],
   "source": [
    "dR.head()"
   ]
  },
  {
   "cell_type": "code",
   "execution_count": null,
   "metadata": {
    "collapsed": false
   },
   "outputs": [],
   "source": [
    "#for column in dR:\n",
    "    \n",
    "#    plt.figure()\n",
    "    #plt.specgram(d[column], NFFT=128, Fs=250, noverlap=64)\n",
    "#    plt.plot(dR[column])\n",
    "#    plt.title(column)"
   ]
  },
  {
   "cell_type": "code",
   "execution_count": null,
   "metadata": {
    "collapsed": false
   },
   "outputs": [],
   "source": []
  },
  {
   "cell_type": "code",
   "execution_count": null,
   "metadata": {
    "collapsed": false
   },
   "outputs": [],
   "source": [
    "eeg = np.array(dL.ix[:, 0:13])\n",
    "eeg = eeg[250:77500,]\n",
    "\n",
    "#tag = np.array(d.ix[:, 'tag'])\n",
    "#tag = tag[250:]"
   ]
  },
  {
   "cell_type": "code",
   "execution_count": null,
   "metadata": {
    "collapsed": false
   },
   "outputs": [],
   "source": [
    "from scipy import signal\n"
   ]
  },
  {
   "cell_type": "code",
   "execution_count": null,
   "metadata": {
    "collapsed": false
   },
   "outputs": [],
   "source": [
    "# filter from 5 to 35 Hz, helps remove 60Hz noise and replicates paper\n",
    "## also helps remove the DC line noise (baseline drift)\n",
    "## 125 is half the sampling rate (250Hz/2)\n",
    "b, a = signal.butter(4, (2.0/125, 35.0/125), btype='bandpass') \n",
    "b, a"
   ]
  },
  {
   "cell_type": "code",
   "execution_count": null,
   "metadata": {
    "collapsed": false
   },
   "outputs": [],
   "source": [
    "eeg_f = signal.lfilter(b, a, eeg, axis=0)\n"
   ]
  },
  {
   "cell_type": "code",
   "execution_count": null,
   "metadata": {
    "collapsed": false
   },
   "outputs": [],
   "source": [
    "## the filter needs a couple samples to converge\n",
    "## honestly 500 is very conservative, but we don't these samples anyway so whatever\n",
    "eeg_f = eeg_f[500:]\n"
   ]
  },
  {
   "cell_type": "code",
   "execution_count": null,
   "metadata": {
    "collapsed": false
   },
   "outputs": [],
   "source": [
    "plt.figure(figsize=(14, 4))\n",
    "plt.plot(eeg[500:1000, 7]) ## raw data\n"
   ]
  },
  {
   "cell_type": "code",
   "execution_count": null,
   "metadata": {
    "collapsed": false
   },
   "outputs": [],
   "source": [
    "plt.figure(figsize=(14, 4))\n",
    "plt.plot(eeg_f[:500, 7])"
   ]
  },
  {
   "cell_type": "code",
   "execution_count": null,
   "metadata": {
    "collapsed": false
   },
   "outputs": [],
   "source": [
    "from sklearn.decomposition import FastICA\n"
   ]
  },
  {
   "cell_type": "code",
   "execution_count": null,
   "metadata": {
    "collapsed": false
   },
   "outputs": [],
   "source": [
    "ica = FastICA()\n",
    "sources = ica.fit_transform(eeg_f)\n",
    "means = ica.mean_.copy()\n",
    "mixing = ica.mixing_.copy()\n",
    "\n",
    "for i in range(ica.components_.shape[0]):\n",
    "    plt.figure()\n",
    "    plt.plot(sources[:15000, i])\n",
    "    plt.title(i)"
   ]
  },
  {
   "cell_type": "code",
   "execution_count": null,
   "metadata": {
    "collapsed": false
   },
   "outputs": [],
   "source": [
    "eye_blinks_ix = 11\n",
    "mixing[:, eye_blinks_ix] = 0 # setting eyeblink component to 0\n",
    "eeg_ff = sources.dot(mixing.T) + means # this is the ICA inverse transform"
   ]
  },
  {
   "cell_type": "code",
   "execution_count": null,
   "metadata": {
    "collapsed": false
   },
   "outputs": [],
   "source": [
    "plt.figure()\n",
    "plt.plot(eeg_f[500:15000, 7])\n",
    "\n",
    "plt.figure()\n",
    "plt.plot(eeg_ff[:15000, 7])"
   ]
  },
  {
   "cell_type": "code",
   "execution_count": null,
   "metadata": {
    "collapsed": true
   },
   "outputs": [],
   "source": [
    "import binascii\n",
    "import matplotlib.pyplot as plt\n",
    "import pandas as pd\n",
    "from scipy import signal\n",
    "import csv\n",
    "import numpy as np\n",
    "from scipy.cluster.vq import kmeans2,whiten"
   ]
  },
  {
   "cell_type": "code",
   "execution_count": null,
   "metadata": {
    "collapsed": true
   },
   "outputs": [],
   "source": [
    "def somme (a, i1, i2):\n",
    "    s=0.0\n",
    "    for i in range(i2+1-i1):\n",
    "        s=s+a[i1+i]\n",
    "    return s"
   ]
  },
  {
   "cell_type": "code",
   "execution_count": null,
   "metadata": {
    "collapsed": true
   },
   "outputs": [],
   "source": [
    "def ploter(a):\n",
    "    plt.plot(a)\n",
    "    plt.ylabel('some numbers')\n",
    "    plt.show()"
   ]
  },
  {
   "cell_type": "code",
   "execution_count": null,
   "metadata": {
    "collapsed": false
   },
   "outputs": [],
   "source": []
  },
  {
   "cell_type": "code",
   "execution_count": null,
   "metadata": {
    "collapsed": false
   },
   "outputs": [],
   "source": [
    "g= open('Robin-1L-03.10.16.17.15.11.csv','rb')\n",
    "gcsv = csv.reader(g, delimiter=',')\n",
    "l = []\n",
    "compteur = 0\n",
    "for row in gcsv:\n",
    "    if (compteur!=0):\n",
    "        l.append(float(row[2])+float(row[3])+float(row[11]))\n",
    "    compteur = compteur + 1"
   ]
  },
  {
   "cell_type": "code",
   "execution_count": null,
   "metadata": {
    "collapsed": false
   },
   "outputs": [],
   "source": []
  },
  {
   "cell_type": "code",
   "execution_count": null,
   "metadata": {
    "collapsed": false
   },
   "outputs": [],
   "source": [
    "def chunk(list,length_chunk):\n",
    "    size = (len(list)/length_chunk)-1\n",
    "    chunked_list_"
   ]
  },
  {
   "cell_type": "code",
   "execution_count": null,
   "metadata": {
    "collapsed": false
   },
   "outputs": [],
   "source": [
    "def traiter(l,l_chunk,nb_clusters):\n",
    "    size = (len(l)/l_chunk)-1\n",
    "    a = np.zeros((size,l_chunk))\n",
    "    st= np.zeros((size,1))\n",
    "    a2 = np.zeros((size,l_chunk))\n",
    "    st2=np.zeros((size,1))\n",
    "    \n",
    "    for i in range(size):\n",
    "        for j in range(l_chunk):\n",
    "            a[i,j]= l[i*l_chunk+j]\n",
    "            a2[i,j]= l[i*l_chunk+j+(l_chunk/2)]\n",
    "        st[i,0]=somme(a[i],0,l_chunk-1)\n",
    "        st2[i,0]= somme(a2[i],0,l_chunk-1)\n",
    "    \n",
    "    continuum = np.zeros((2*size,1))\n",
    "    c2=np.zeros((2*size,l_chunk))\n",
    "    for i in range(size):\n",
    "        continuum[2*i,0]=st[i,0]\n",
    "        continuum[2*i+1,0]=st2[i,0]\n",
    "        c2[2*i]=a[i]\n",
    "        c2[2*i+1]=a2[i]\n",
    "\n",
    "    w = whiten(continuum)\n",
    "    \n",
    "    k, c = kmeans2(w,nb_clusters,50, minit='points')\n",
    "    print k\n",
    "    print c\n",
    "    plt.plot(c)\n",
    "    plt.ylabel('some numbers')\n",
    "    plt.show()\n",
    "    \n",
    "    ind_imp= 0\n",
    "    ou1 = somme(c,0,len(c)-1)\n",
    "    if (ou1<len(c)/2):\n",
    "        ind_imp=1\n",
    "    else:\n",
    "        ou1=len(c)-ou1\n",
    "        \n",
    "    inds = []\n",
    "    for i in range(len(c)):\n",
    "        if (c[i]==ind_imp):\n",
    "            inds.append(i)\n",
    "    \n",
    "    print inds\n",
    "    for i in inds:\n",
    "        ploter(c2[i])\n",
    "    return ou1   \n"
   ]
  },
  {
   "cell_type": "code",
   "execution_count": null,
   "metadata": {
    "collapsed": false
   },
   "outputs": [],
   "source": []
  },
  {
   "cell_type": "code",
   "execution_count": null,
   "metadata": {
    "collapsed": false
   },
   "outputs": [],
   "source": [
    "\n",
    "def trouver_l_chunk(l_min,rang):    \n",
    "    for j in range(5):\n",
    "        li = []\n",
    "        for i in range (rang):\n",
    "            li.append(traiter(l,rang + l_min,2))\n",
    "        ploter(li)\n",
    "        return min(li),li.index(min(li))\n",
    "\n",
    "traiter(l,95,2)\n"
   ]
  },
  {
   "cell_type": "code",
   "execution_count": null,
   "metadata": {
    "collapsed": true
   },
   "outputs": [],
   "source": []
  }
 ],
 "metadata": {
  "anaconda-cloud": {},
  "kernelspec": {
   "display_name": "Python [conda root]",
   "language": "python",
   "name": "conda-root-py"
  },
  "language_info": {
   "codemirror_mode": {
    "name": "ipython",
    "version": 2
   },
   "file_extension": ".py",
   "mimetype": "text/x-python",
   "name": "python",
   "nbconvert_exporter": "python",
   "pygments_lexer": "ipython2",
   "version": "2.7.12"
  }
 },
 "nbformat": 4,
 "nbformat_minor": 1
}
